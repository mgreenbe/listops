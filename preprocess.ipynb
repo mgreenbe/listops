{
 "cells": [
  {
   "cell_type": "code",
   "execution_count": 1,
   "metadata": {},
   "outputs": [],
   "source": [
    "import re"
   ]
  },
  {
   "cell_type": "code",
   "execution_count": 2,
   "metadata": {},
   "outputs": [
    {
     "data": {
      "text/plain": [
       "11020353"
      ]
     },
     "execution_count": 2,
     "metadata": {},
     "output_type": "execute_result"
    }
   ],
   "source": [
    "old_lines = open(\"train_d20s.txt\").readlines()\n",
    "outfile = open(\"train_preprocessed.txt\", \"w\")\n",
    "\n",
    "new_lines = []\n",
    "for old_line in old_lines:\n",
    "    y, x = old_line.split(\"\\t\")\n",
    "    x = x.replace(\"(\", \"\")\n",
    "    x = x.replace(\")\", \"\")\n",
    "    x = x.replace(\"[\", \"[ \")\n",
    "    x = re.sub(\"\\s+\", \" \", x)\n",
    "    x = x.strip()\n",
    "    new_lines.append(f\"{y},{x}\")\n",
    "\n",
    "outfile.write(\"\\n\".join(new_lines))"
   ]
  },
  {
   "cell_type": "code",
   "execution_count": 3,
   "metadata": {},
   "outputs": [
    {
     "data": {
      "text/plain": [
       "1222517"
      ]
     },
     "execution_count": 3,
     "metadata": {},
     "output_type": "execute_result"
    }
   ],
   "source": [
    "old_lines = open(\"test_d20s.txt\").readlines()\n",
    "outfile = open(\"test_preprocessed.txt\", \"w\")\n",
    "\n",
    "new_lines = []\n",
    "for old_line in old_lines:\n",
    "    y, x = old_line.split(\"\\t\")\n",
    "    x = x.replace(\"(\", \"\")\n",
    "    x = x.replace(\")\", \"\")\n",
    "    x = x.replace(\"[\", \"[ \")\n",
    "    x = re.sub(\"\\s+\", \" \", x)\n",
    "    x = x.strip()\n",
    "    new_lines.append(f\"{y},{x}\")\n",
    "\n",
    "outfile.write(\"\\n\".join(new_lines))"
   ]
  },
  {
   "cell_type": "code",
   "execution_count": null,
   "metadata": {},
   "outputs": [],
   "source": []
  }
 ],
 "metadata": {
  "kernelspec": {
   "display_name": "Python 3.10.6 64-bit",
   "language": "python",
   "name": "python3"
  },
  "language_info": {
   "codemirror_mode": {
    "name": "ipython",
    "version": 3
   },
   "file_extension": ".py",
   "mimetype": "text/x-python",
   "name": "python",
   "nbconvert_exporter": "python",
   "pygments_lexer": "ipython3",
   "version": "3.10.6"
  },
  "orig_nbformat": 4,
  "vscode": {
   "interpreter": {
    "hash": "b0fa6594d8f4cbf19f97940f81e996739fb7646882a419484c72d19e05852a7e"
   }
  }
 },
 "nbformat": 4,
 "nbformat_minor": 2
}
